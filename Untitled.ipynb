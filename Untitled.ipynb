{
 "cells": [
  {
   "cell_type": "code",
   "execution_count": null,
   "metadata": {},
   "outputs": [],
   "source": []
  },
  {
   "cell_type": "code",
   "execution_count": 34,
   "metadata": {},
   "outputs": [
    {
     "data": {
      "text/plain": [
       "'{\"columns\": [\"tweet_id\", \"writer\", \"post_date\", \"body\", \"comment_num\", \"retweet_num\", \"like_num\"], \"index\": [152108, 164561, 165289, 172015, 177532, 192196, 197741, 283305, 284366], \"data\": [[1172477830933831682, \"TeslaOpinion\", 1568375473, \"Tesla is the 4th MOST RELIABLE car in whatcar UK\\\\u2019s survey!10 LEAST reliable: Land Rover, Renault, Jeep, Nissan, Vauxhall, Jaguar, Alpha Romeo, Mercedes Benz, Porsche, Citroen.$TSLA $tslaqhttps://whatcar.com/news/the-uks-most-and-least-reliable-car-makes/n20072\\\\u2026\", 2, 1, 3], [1175334170551173121, \"TeslaOpinion\", 1569056477, \"Tesla is the 3rd MOST RELIABLE manufacturer in WhatCar UK\\\\u2019s survey! 18,000 surveyed.10 LEAST reliable: Land Rover, Renault, Jeep, Nissan, Vauxhall, Jaguar, Alpha Romeo, Mercedes Benz, Porsche, Citroen.$TSLA $tslaqhttps://whatcar.com/news/the-uks-most-and-least-reliable-car-makes/n20072\\\\u2026\", 1, 7, 11], [1175749560569757701, \"TeslaOpinion\", 1569155514, \"Tesla is the 3rd MOST RELIABLE manufacturer in WhatCar UK\\\\u2019s survey! 18,000 surveyed.10 LEAST reliable: Land Rover, Renault, Jeep, Nissan, Vauxhall, Jaguar, Alpha Romeo, Mercedes Benz, Porsche, Citroen.$TSLA $tslaqhttps://whatcar.com/news/the-uks-most-and-least-reliable-car-makes/n20072\\\\u2026\", 1, 3, 9], [1177133897634611200, \"TeslaOpinion\", 1569485565, \"Tesla is the 3rd MOST RELIABLE manufacturer in WhatCar UK\\\\u2019s survey! 18,000 surveyed.10 LEAST reliable: Land Rover, Renault, Jeep, Nissan, Vauxhall, Jaguar, Alpha Romeo, Mercedes Benz, Porsche, Citroen.$TSLA $tslaq\", 0, 3, 6], [1178465827793686528, \"TeslaOpinion\", 1569803122, \"Tesla is THE MOST RELIABLE manufacturer in UK survey when exclude cars with regular servicing needs! 18,000 surveyed.10 LEAST reliable: Land Rover, Renault, Jeep, Nissan, Vauxhall, Jaguar, Alpha Romeo, Mercedes, Porsche, Citroen.#DreamCar $TSLA $tslaqhttps://whatcar.com/news/the-uks-most-and-least-reliable-car-makes/n20072\\\\u2026\", 1, 3, 4], [1181377738709422080, \"TeslaOpinion\", 1570497376, \"UK survey. Tesla is the MOST RELIABLE automaker (excluding cars that need significant regular servicing). 18,000 surveyed.10 LEAST reliable: Land Rover, Renault, Jeep, Nissan, Vauxhall, Jaguar, Alpha Romeo, Mercedes Benz, Porsche, Citroen$TSLA $tslaqhttps://whatcar.com/news/the-uks-most-and-least-reliable-car-makes/n20072\\\\u2026\", 1, 3, 11], [1182343670328156160, \"AlexWitzleben\", 1570727672, \"Tesla Earnings: Will the Electric-Car Maker Report a Profit? @themotleyfool #stocks $TSLA https://fool.com/investing/2019/10/10/tesla-earnings-will-the-electric-car-maker-report.aspx\\\\u2026 #investment  #electriccar #electriccars #ElectricVehicles #EVs #Tesla #cars #Autos #vw #Daimler #BMW #PSA #Renault #Peugeot #Citroen #Fiat #Volvo #Opel\", 0, 0, 1], [1197904477396836352, \"HansNiederberg2\", 1574437658, \"#Cybertruck $TSLA what has happened last night would not have happened to:Andr\\\\u00e9 CitroenCarl Friedrich BenzGiovanni AgnelliGottlieb DaimlerHenry FordLouis ChevroletWilliam Durant..and many more\", 0, 0, 3], [1197986013328674816, \"BoreGuru\", 1574457097, \"It\\'s as if French automaker Citroen started the body design and then said \\\\\"meh - fuckit, it\\'s just going to catch on fire anyway\\\\\" and quit.#TeslaPickupTruck $TSLA\", 0, 1, 1]]}'"
      ]
     },
     "execution_count": 34,
     "metadata": {},
     "output_type": "execute_result"
    }
   ],
   "source": [
    "df = pd.read_csv(\"tweet.csv\", sep=\",\")\n",
    "key_word = \"Citroen\"\n",
    "df_target = df[df['body'].str.contains(f\"{key_word}\")]\n",
    "\n",
    "result = df_target.to_json(orient=\"split\")\n",
    "parsed = json.loads(result)\n",
    "json.dumps(parsed)"
   ]
  },
  {
   "cell_type": "code",
   "execution_count": 1,
   "metadata": {},
   "outputs": [],
   "source": [
    "#df.values[0][0]"
   ]
  },
  {
   "cell_type": "code",
   "execution_count": 14,
   "metadata": {},
   "outputs": [],
   "source": [
    "# import sqlite3\n",
    "# import matplotlib.pyplot as plt\n",
    "# import numpy as np\n",
    "import pandas as pd\n",
    "import json\n",
    "#import seaborn as sns\n",
    "\n",
    "import spacy\n",
    "from spacytextblob.spacytextblob import SpacyTextBlob\n"
   ]
  },
  {
   "cell_type": "code",
   "execution_count": 3,
   "metadata": {},
   "outputs": [],
   "source": [
    "df = pd.read_csv(\"tweet.csv\", sep=\",\")"
   ]
  },
  {
   "cell_type": "code",
   "execution_count": 12,
   "metadata": {},
   "outputs": [
    {
     "data": {
      "text/plain": [
       "1172477830933831682"
      ]
     },
     "execution_count": 12,
     "metadata": {},
     "output_type": "execute_result"
    }
   ],
   "source": [
    "df_target = df[df['body'].str.contains(\"Citroen\")]\n",
    "df_target.values[0][0]"
   ]
  },
  {
   "cell_type": "code",
   "execution_count": 5,
   "metadata": {},
   "outputs": [
    {
     "data": {
      "text/html": [
       "<div>\n",
       "<style scoped>\n",
       "    .dataframe tbody tr th:only-of-type {\n",
       "        vertical-align: middle;\n",
       "    }\n",
       "\n",
       "    .dataframe tbody tr th {\n",
       "        vertical-align: top;\n",
       "    }\n",
       "\n",
       "    .dataframe thead th {\n",
       "        text-align: right;\n",
       "    }\n",
       "</style>\n",
       "<table border=\"1\" class=\"dataframe\">\n",
       "  <thead>\n",
       "    <tr style=\"text-align: right;\">\n",
       "      <th></th>\n",
       "      <th>tweet_id</th>\n",
       "      <th>writer</th>\n",
       "      <th>post_date</th>\n",
       "      <th>body</th>\n",
       "      <th>comment_num</th>\n",
       "      <th>retweet_num</th>\n",
       "      <th>like_num</th>\n",
       "    </tr>\n",
       "  </thead>\n",
       "  <tbody>\n",
       "    <tr>\n",
       "      <th>0</th>\n",
       "      <td>1139261573191671811</td>\n",
       "      <td>RaindropsOhMy</td>\n",
       "      <td>1560456100</td>\n",
       "      <td>$AAPL, that close, OMG! LOL</td>\n",
       "      <td>1</td>\n",
       "      <td>0</td>\n",
       "      <td>0</td>\n",
       "    </tr>\n",
       "    <tr>\n",
       "      <th>1</th>\n",
       "      <td>1139261573422309381</td>\n",
       "      <td>TheBurdetteLawF</td>\n",
       "      <td>1560456100</td>\n",
       "      <td>#estate asset watch - most active $NDX stocks ...</td>\n",
       "      <td>0</td>\n",
       "      <td>0</td>\n",
       "      <td>0</td>\n",
       "    </tr>\n",
       "    <tr>\n",
       "      <th>2</th>\n",
       "      <td>1139261594326708227</td>\n",
       "      <td>zomgapocalypse</td>\n",
       "      <td>1560456105</td>\n",
       "      <td>LA Times reporters are not aware that Elon Mus...</td>\n",
       "      <td>1</td>\n",
       "      <td>1</td>\n",
       "      <td>1</td>\n",
       "    </tr>\n",
       "    <tr>\n",
       "      <th>3</th>\n",
       "      <td>1139261636617920513</td>\n",
       "      <td>Tanzeel_Akhtar</td>\n",
       "      <td>1560456115</td>\n",
       "      <td>Electrek Shares Some Fan Art Of Teslas Upcomin...</td>\n",
       "      <td>0</td>\n",
       "      <td>2</td>\n",
       "      <td>1</td>\n",
       "    </tr>\n",
       "    <tr>\n",
       "      <th>4</th>\n",
       "      <td>1139261677273145344</td>\n",
       "      <td>TradeRunnerFX</td>\n",
       "      <td>1560456124</td>\n",
       "      <td>MOC Imbalance Alert: $AAPL 1.142 mil paired sh...</td>\n",
       "      <td>0</td>\n",
       "      <td>0</td>\n",
       "      <td>1</td>\n",
       "    </tr>\n",
       "    <tr>\n",
       "      <th>...</th>\n",
       "      <td>...</td>\n",
       "      <td>...</td>\n",
       "      <td>...</td>\n",
       "      <td>...</td>\n",
       "      <td>...</td>\n",
       "      <td>...</td>\n",
       "      <td>...</td>\n",
       "    </tr>\n",
       "    <tr>\n",
       "      <th>352943</th>\n",
       "      <td>1212159765914079234</td>\n",
       "      <td>TEEELAZER</td>\n",
       "      <td>1577836383</td>\n",
       "      <td>That $SPY $SPX puuump in the last hour was the...</td>\n",
       "      <td>1</td>\n",
       "      <td>0</td>\n",
       "      <td>6</td>\n",
       "    </tr>\n",
       "    <tr>\n",
       "      <th>352944</th>\n",
       "      <td>1212159838882533376</td>\n",
       "      <td>ShortingIsFun</td>\n",
       "      <td>1577836401</td>\n",
       "      <td>In 2020 I may start Tweeting out positive news...</td>\n",
       "      <td>0</td>\n",
       "      <td>0</td>\n",
       "      <td>1</td>\n",
       "    </tr>\n",
       "    <tr>\n",
       "      <th>352945</th>\n",
       "      <td>1212160015332728833</td>\n",
       "      <td>Commuternyc</td>\n",
       "      <td>1577836443</td>\n",
       "      <td>Patiently Waiting for the no twitter sitter tw...</td>\n",
       "      <td>0</td>\n",
       "      <td>0</td>\n",
       "      <td>5</td>\n",
       "    </tr>\n",
       "    <tr>\n",
       "      <th>352946</th>\n",
       "      <td>1212160410692046849</td>\n",
       "      <td>MoriaCrypto</td>\n",
       "      <td>1577836537</td>\n",
       "      <td>I don't discriminate. I own both $aapl and $ms...</td>\n",
       "      <td>1</td>\n",
       "      <td>0</td>\n",
       "      <td>1</td>\n",
       "    </tr>\n",
       "    <tr>\n",
       "      <th>352947</th>\n",
       "      <td>1212160477159206912</td>\n",
       "      <td>treabase</td>\n",
       "      <td>1577836553</td>\n",
       "      <td>$AAPL #patent 10,522,475 Vertical interconnect...</td>\n",
       "      <td>0</td>\n",
       "      <td>0</td>\n",
       "      <td>0</td>\n",
       "    </tr>\n",
       "  </tbody>\n",
       "</table>\n",
       "<p>352948 rows × 7 columns</p>\n",
       "</div>"
      ],
      "text/plain": [
       "                   tweet_id           writer   post_date  \\\n",
       "0       1139261573191671811    RaindropsOhMy  1560456100   \n",
       "1       1139261573422309381  TheBurdetteLawF  1560456100   \n",
       "2       1139261594326708227   zomgapocalypse  1560456105   \n",
       "3       1139261636617920513   Tanzeel_Akhtar  1560456115   \n",
       "4       1139261677273145344    TradeRunnerFX  1560456124   \n",
       "...                     ...              ...         ...   \n",
       "352943  1212159765914079234        TEEELAZER  1577836383   \n",
       "352944  1212159838882533376    ShortingIsFun  1577836401   \n",
       "352945  1212160015332728833      Commuternyc  1577836443   \n",
       "352946  1212160410692046849      MoriaCrypto  1577836537   \n",
       "352947  1212160477159206912         treabase  1577836553   \n",
       "\n",
       "                                                     body  comment_num  \\\n",
       "0                             $AAPL, that close, OMG! LOL            1   \n",
       "1       #estate asset watch - most active $NDX stocks ...            0   \n",
       "2       LA Times reporters are not aware that Elon Mus...            1   \n",
       "3       Electrek Shares Some Fan Art Of Teslas Upcomin...            0   \n",
       "4       MOC Imbalance Alert: $AAPL 1.142 mil paired sh...            0   \n",
       "...                                                   ...          ...   \n",
       "352943  That $SPY $SPX puuump in the last hour was the...            1   \n",
       "352944  In 2020 I may start Tweeting out positive news...            0   \n",
       "352945  Patiently Waiting for the no twitter sitter tw...            0   \n",
       "352946  I don't discriminate. I own both $aapl and $ms...            1   \n",
       "352947  $AAPL #patent 10,522,475 Vertical interconnect...            0   \n",
       "\n",
       "        retweet_num  like_num  \n",
       "0                 0         0  \n",
       "1                 0         0  \n",
       "2                 1         1  \n",
       "3                 2         1  \n",
       "4                 0         1  \n",
       "...             ...       ...  \n",
       "352943            0         6  \n",
       "352944            0         1  \n",
       "352945            0         5  \n",
       "352946            0         1  \n",
       "352947            0         0  \n",
       "\n",
       "[352948 rows x 7 columns]"
      ]
     },
     "execution_count": 5,
     "metadata": {},
     "output_type": "execute_result"
    }
   ],
   "source": [
    "df"
   ]
  },
  {
   "cell_type": "code",
   "execution_count": 6,
   "metadata": {},
   "outputs": [
    {
     "data": {
      "text/html": [
       "<div>\n",
       "<style scoped>\n",
       "    .dataframe tbody tr th:only-of-type {\n",
       "        vertical-align: middle;\n",
       "    }\n",
       "\n",
       "    .dataframe tbody tr th {\n",
       "        vertical-align: top;\n",
       "    }\n",
       "\n",
       "    .dataframe thead th {\n",
       "        text-align: right;\n",
       "    }\n",
       "</style>\n",
       "<table border=\"1\" class=\"dataframe\">\n",
       "  <thead>\n",
       "    <tr style=\"text-align: right;\">\n",
       "      <th></th>\n",
       "      <th>tweet_id</th>\n",
       "      <th>writer</th>\n",
       "      <th>post_date</th>\n",
       "      <th>body</th>\n",
       "      <th>comment_num</th>\n",
       "      <th>retweet_num</th>\n",
       "      <th>like_num</th>\n",
       "    </tr>\n",
       "  </thead>\n",
       "  <tbody>\n",
       "    <tr>\n",
       "      <th>207</th>\n",
       "      <td>1139292456615325697</td>\n",
       "      <td>StockBoardAsset</td>\n",
       "      <td>1560463463</td>\n",
       "      <td>13 Jun - 06:03:53 PM  [RTRS] (AAPL.O) - TRUMP ...</td>\n",
       "      <td>2</td>\n",
       "      <td>1</td>\n",
       "      <td>12</td>\n",
       "    </tr>\n",
       "    <tr>\n",
       "      <th>699</th>\n",
       "      <td>1139449728092049408</td>\n",
       "      <td>EWAnalysis</td>\n",
       "      <td>1560500959</td>\n",
       "      <td>Elliott Wave View: Apple ( $AAPL) Has Started ...</td>\n",
       "      <td>0</td>\n",
       "      <td>1</td>\n",
       "      <td>0</td>\n",
       "    </tr>\n",
       "    <tr>\n",
       "      <th>856</th>\n",
       "      <td>1139498815449206785</td>\n",
       "      <td>sub_penny</td>\n",
       "      <td>1560512663</td>\n",
       "      <td>$ARYC is @Arrayit and is located in #SiliconVa...</td>\n",
       "      <td>1</td>\n",
       "      <td>4</td>\n",
       "      <td>9</td>\n",
       "    </tr>\n",
       "    <tr>\n",
       "      <th>881</th>\n",
       "      <td>1139503868415479808</td>\n",
       "      <td>BZstockss</td>\n",
       "      <td>1560513867</td>\n",
       "      <td>$ARYC is @Arrayit and is located in #SiliconVa...</td>\n",
       "      <td>1</td>\n",
       "      <td>1</td>\n",
       "      <td>6</td>\n",
       "    </tr>\n",
       "    <tr>\n",
       "      <th>1964</th>\n",
       "      <td>1139626213889269760</td>\n",
       "      <td>4E_justice</td>\n",
       "      <td>1560543037</td>\n",
       "      <td>HERE WE GO...you wanna know which cities signe...</td>\n",
       "      <td>3</td>\n",
       "      <td>5</td>\n",
       "      <td>8</td>\n",
       "    </tr>\n",
       "    <tr>\n",
       "      <th>...</th>\n",
       "      <td>...</td>\n",
       "      <td>...</td>\n",
       "      <td>...</td>\n",
       "      <td>...</td>\n",
       "      <td>...</td>\n",
       "      <td>...</td>\n",
       "      <td>...</td>\n",
       "    </tr>\n",
       "    <tr>\n",
       "      <th>351496</th>\n",
       "      <td>1212009378997587968</td>\n",
       "      <td>bitcommander</td>\n",
       "      <td>1577800528</td>\n",
       "      <td>Portfolio management on #iPhone.$WMT $APPL #io...</td>\n",
       "      <td>0</td>\n",
       "      <td>0</td>\n",
       "      <td>0</td>\n",
       "    </tr>\n",
       "    <tr>\n",
       "      <th>351503</th>\n",
       "      <td>1212010352982024193</td>\n",
       "      <td>Pivotal_Pivots</td>\n",
       "      <td>1577800760</td>\n",
       "      <td>My 20/20 Predictions:$DXY will fall to $95$EUR...</td>\n",
       "      <td>7</td>\n",
       "      <td>16</td>\n",
       "      <td>56</td>\n",
       "    </tr>\n",
       "    <tr>\n",
       "      <th>352183</th>\n",
       "      <td>1212060977904148481</td>\n",
       "      <td>NotTheWorstKid</td>\n",
       "      <td>1577812830</td>\n",
       "      <td>Great job! I had a 92% return this year. $TSLA...</td>\n",
       "      <td>1</td>\n",
       "      <td>0</td>\n",
       "      <td>0</td>\n",
       "    </tr>\n",
       "    <tr>\n",
       "      <th>352368</th>\n",
       "      <td>1212079311483809797</td>\n",
       "      <td>stocknewsdotcom</td>\n",
       "      <td>1577817201</td>\n",
       "      <td>$AAPL Three of the most closely watched stocks...</td>\n",
       "      <td>0</td>\n",
       "      <td>0</td>\n",
       "      <td>0</td>\n",
       "    </tr>\n",
       "    <tr>\n",
       "      <th>352913</th>\n",
       "      <td>1212149780471853057</td>\n",
       "      <td>harveyrosenblum</td>\n",
       "      <td>1577834002</td>\n",
       "      <td>If this continues then the market will be enti...</td>\n",
       "      <td>0</td>\n",
       "      <td>0</td>\n",
       "      <td>2</td>\n",
       "    </tr>\n",
       "  </tbody>\n",
       "</table>\n",
       "<p>889 rows × 7 columns</p>\n",
       "</div>"
      ],
      "text/plain": [
       "                   tweet_id           writer   post_date  \\\n",
       "207     1139292456615325697  StockBoardAsset  1560463463   \n",
       "699     1139449728092049408       EWAnalysis  1560500959   \n",
       "856     1139498815449206785        sub_penny  1560512663   \n",
       "881     1139503868415479808        BZstockss  1560513867   \n",
       "1964    1139626213889269760       4E_justice  1560543037   \n",
       "...                     ...              ...         ...   \n",
       "351496  1212009378997587968     bitcommander  1577800528   \n",
       "351503  1212010352982024193   Pivotal_Pivots  1577800760   \n",
       "352183  1212060977904148481   NotTheWorstKid  1577812830   \n",
       "352368  1212079311483809797  stocknewsdotcom  1577817201   \n",
       "352913  1212149780471853057  harveyrosenblum  1577834002   \n",
       "\n",
       "                                                     body  comment_num  \\\n",
       "207     13 Jun - 06:03:53 PM  [RTRS] (AAPL.O) - TRUMP ...            2   \n",
       "699     Elliott Wave View: Apple ( $AAPL) Has Started ...            0   \n",
       "856     $ARYC is @Arrayit and is located in #SiliconVa...            1   \n",
       "881     $ARYC is @Arrayit and is located in #SiliconVa...            1   \n",
       "1964    HERE WE GO...you wanna know which cities signe...            3   \n",
       "...                                                   ...          ...   \n",
       "351496  Portfolio management on #iPhone.$WMT $APPL #io...            0   \n",
       "351503  My 20/20 Predictions:$DXY will fall to $95$EUR...            7   \n",
       "352183  Great job! I had a 92% return this year. $TSLA...            1   \n",
       "352368  $AAPL Three of the most closely watched stocks...            0   \n",
       "352913  If this continues then the market will be enti...            0   \n",
       "\n",
       "        retweet_num  like_num  \n",
       "207               1        12  \n",
       "699               1         0  \n",
       "856               4         9  \n",
       "881               1         6  \n",
       "1964              5         8  \n",
       "...             ...       ...  \n",
       "351496            0         0  \n",
       "351503           16        56  \n",
       "352183            0         0  \n",
       "352368            0         0  \n",
       "352913            0         2  \n",
       "\n",
       "[889 rows x 7 columns]"
      ]
     },
     "execution_count": 6,
     "metadata": {},
     "output_type": "execute_result"
    }
   ],
   "source": [
    "key_word = \"APPL\"\n",
    "df[df['body'].str.contains(f\"{key_word}\")]"
   ]
  },
  {
   "cell_type": "code",
   "execution_count": null,
   "metadata": {},
   "outputs": [],
   "source": []
  },
  {
   "cell_type": "code",
   "execution_count": null,
   "metadata": {},
   "outputs": [],
   "source": []
  },
  {
   "cell_type": "code",
   "execution_count": null,
   "metadata": {},
   "outputs": [],
   "source": []
  },
  {
   "cell_type": "code",
   "execution_count": null,
   "metadata": {},
   "outputs": [],
   "source": []
  },
  {
   "cell_type": "code",
   "execution_count": 7,
   "metadata": {},
   "outputs": [
    {
     "name": "stdout",
     "output_type": "stream",
     "text": [
      "0.1\n",
      "0.10833333333333334\n",
      "0.10833333333333334\n",
      "0.10833333333333334\n",
      "0.06666666666666667\n",
      "0.14375\n",
      "0.0\n",
      "0.3333333333333333\n",
      "0.0\n"
     ]
    }
   ],
   "source": [
    "#classer les phrases par rapport à leurs positivités \n",
    "\n",
    "for i in df_target['body'].values:\n",
    "\n",
    "\n",
    "    nlp = spacy.load('en_core_web_sm')\n",
    "    nlp.add_pipe('spacytextblob')\n",
    "\n",
    "\n",
    "\n",
    "    doc = nlp(i)\n",
    "\n",
    "\n",
    "    print(doc._.polarity)      # Polarity: -0.125\n",
    "#doc._.subjectivity  # Sujectivity: 0.9\n",
    "#doc._.assessments   # Assessments: [(['really', 'horrible'], -1.0, 1.0, None), (['worst', '!'], -1.0, 1.0, None), (['really', 'good'], 0.7, 0.6000000000000001, None), (['happy'], 0.8, 1.0, None)]\n"
   ]
  },
  {
   "cell_type": "code",
   "execution_count": null,
   "metadata": {},
   "outputs": [],
   "source": []
  },
  {
   "cell_type": "code",
   "execution_count": null,
   "metadata": {},
   "outputs": [],
   "source": []
  },
  {
   "cell_type": "code",
   "execution_count": null,
   "metadata": {},
   "outputs": [],
   "source": []
  },
  {
   "cell_type": "code",
   "execution_count": null,
   "metadata": {},
   "outputs": [],
   "source": []
  },
  {
   "cell_type": "code",
   "execution_count": null,
   "metadata": {},
   "outputs": [],
   "source": []
  },
  {
   "cell_type": "code",
   "execution_count": null,
   "metadata": {},
   "outputs": [],
   "source": []
  },
  {
   "cell_type": "code",
   "execution_count": null,
   "metadata": {},
   "outputs": [],
   "source": []
  },
  {
   "cell_type": "code",
   "execution_count": null,
   "metadata": {},
   "outputs": [],
   "source": []
  },
  {
   "cell_type": "code",
   "execution_count": null,
   "metadata": {},
   "outputs": [],
   "source": []
  },
  {
   "cell_type": "code",
   "execution_count": null,
   "metadata": {},
   "outputs": [],
   "source": []
  },
  {
   "cell_type": "code",
   "execution_count": null,
   "metadata": {},
   "outputs": [],
   "source": []
  },
  {
   "cell_type": "code",
   "execution_count": null,
   "metadata": {},
   "outputs": [],
   "source": []
  },
  {
   "cell_type": "code",
   "execution_count": null,
   "metadata": {},
   "outputs": [],
   "source": []
  },
  {
   "cell_type": "code",
   "execution_count": 8,
   "metadata": {},
   "outputs": [
    {
     "name": "stdout",
     "output_type": "stream",
     "text": [
      "no db connexion\n"
     ]
    },
    {
     "ename": "NameError",
     "evalue": "name 'connexion' is not defined",
     "output_type": "error",
     "traceback": [
      "\u001b[0;31m---------------------------------------------------------------------------\u001b[0m",
      "\u001b[0;31mNameError\u001b[0m                                 Traceback (most recent call last)",
      "\u001b[0;32m<ipython-input-8-0286ef606183>\u001b[0m in \u001b[0;36m<module>\u001b[0;34m\u001b[0m\n\u001b[1;32m      6\u001b[0m \u001b[0;34m\u001b[0m\u001b[0m\n\u001b[1;32m      7\u001b[0m \u001b[0;34m\u001b[0m\u001b[0m\n\u001b[0;32m----> 8\u001b[0;31m \u001b[0;32mwith\u001b[0m \u001b[0mconnexion\u001b[0m\u001b[0;34m:\u001b[0m\u001b[0;34m\u001b[0m\u001b[0;34m\u001b[0m\u001b[0m\n\u001b[0m\u001b[1;32m      9\u001b[0m     \u001b[0mc\u001b[0m\u001b[0;34m.\u001b[0m\u001b[0mexecute\u001b[0m\u001b[0;34m(\u001b[0m\u001b[0;34m\"UPDATE movies SET public = 'Tous publics' WHERE public = 'Tous Public';\"\u001b[0m\u001b[0;34m)\u001b[0m\u001b[0;34m\u001b[0m\u001b[0;34m\u001b[0m\u001b[0m\n\u001b[1;32m     10\u001b[0m     \u001b[0mprint\u001b[0m\u001b[0;34m(\u001b[0m\u001b[0;34m\"ok\"\u001b[0m\u001b[0;34m)\u001b[0m\u001b[0;34m\u001b[0m\u001b[0;34m\u001b[0m\u001b[0m\n",
      "\u001b[0;31mNameError\u001b[0m: name 'connexion' is not defined"
     ]
    }
   ],
   "source": [
    "try:\n",
    "    connexion = sqlite3.connect(\"IMDB.db\")\n",
    "    c = connexion.cursor()\n",
    "except:\n",
    "    print(\"no db connexion\")\n",
    "    \n",
    "\n",
    "with connexion:\n",
    "    c.execute(\"UPDATE movies SET public = 'Tous publics' WHERE public = 'Tous Public';\")\n",
    "    print(\"ok\")"
   ]
  },
  {
   "cell_type": "code",
   "execution_count": null,
   "metadata": {},
   "outputs": [],
   "source": [
    "df = pd.read_sql(\"SELECT * FROM movies;\", connexion)"
   ]
  },
  {
   "cell_type": "code",
   "execution_count": null,
   "metadata": {},
   "outputs": [],
   "source": [
    "df"
   ]
  },
  {
   "cell_type": "code",
   "execution_count": null,
   "metadata": {},
   "outputs": [],
   "source": []
  },
  {
   "cell_type": "code",
   "execution_count": null,
   "metadata": {},
   "outputs": [],
   "source": []
  },
  {
   "cell_type": "code",
   "execution_count": null,
   "metadata": {},
   "outputs": [],
   "source": []
  },
  {
   "cell_type": "code",
   "execution_count": null,
   "metadata": {},
   "outputs": [],
   "source": []
  },
  {
   "cell_type": "code",
   "execution_count": null,
   "metadata": {},
   "outputs": [],
   "source": [
    "#classer les mots par type\n",
    "doc = nlp(\"Je travaille en France chez John Sena\")\n",
    "for ent in doc.ents:\n",
    "    print(ent.text, ent.label_)"
   ]
  },
  {
   "cell_type": "code",
   "execution_count": null,
   "metadata": {},
   "outputs": [],
   "source": [
    "#classer les mots par type\n",
    "import spacy\n",
    "from spacytextblob.spacytextblob import SpacyTextBlob\n",
    "\n",
    "nlp = spacy.load('en_core_web_sm')\n",
    "nlp.add_pipe('spacytextblob')\n",
    "\n",
    "\n",
    "for i in list(df.values):\n",
    "    doc = nlp(i[8])\n",
    "    for ent in doc.ents:\n",
    "        print(ent.text, ent.end_char, ent.label_)\n",
    "    print('-'*100)\n"
   ]
  },
  {
   "cell_type": "code",
   "execution_count": null,
   "metadata": {},
   "outputs": [],
   "source": [
    "#classer les phrases par rapport à leurs positivités \n",
    "\n",
    "import spacy\n",
    "from spacytextblob.spacytextblob import SpacyTextBlob\n",
    "\n",
    "nlp = spacy.load('en_core_web_sm')\n",
    "nlp.add_pipe('spacytextblob')\n",
    "text = 'fuck you asshole'\n",
    "\n",
    "\n",
    "doc = nlp(text)\n",
    "\n",
    "\n",
    "doc._.polarity      # Polarity: -0.125\n",
    "#doc._.subjectivity  # Sujectivity: 0.9\n",
    "#doc._.assessments   # Assessments: [(['really', 'horrible'], -1.0, 1.0, None), (['worst', '!'], -1.0, 1.0, None), (['really', 'good'], 0.7, 0.6000000000000001, None), (['happy'], 0.8, 1.0, None)]\n"
   ]
  },
  {
   "cell_type": "code",
   "execution_count": null,
   "metadata": {},
   "outputs": [],
   "source": [
    "import spacy\n",
    "from spacytextblob.spacytextblob import SpacyTextBlob\n",
    "\n",
    "nlp = spacy.load('en_core_web_sm')\n",
    "nlp.add_pipe('spacytextblob')\n",
    "\n",
    "for i in list(df.values):\n",
    "    \n",
    "    doc = nlp(i[8])\n",
    "\n",
    "    if doc._.polarity > 0.7:\n",
    "        print(f'Titre : {i[1]}\\nSynopsis : {i[8]}\\nNote polarity : {doc._.polarity}\\n','-'*100)\n",
    "\n"
   ]
  },
  {
   "cell_type": "code",
   "execution_count": null,
   "metadata": {},
   "outputs": [],
   "source": []
  },
  {
   "cell_type": "code",
   "execution_count": null,
   "metadata": {},
   "outputs": [],
   "source": []
  },
  {
   "cell_type": "code",
   "execution_count": null,
   "metadata": {},
   "outputs": [],
   "source": []
  },
  {
   "cell_type": "code",
   "execution_count": null,
   "metadata": {},
   "outputs": [],
   "source": []
  },
  {
   "cell_type": "code",
   "execution_count": null,
   "metadata": {},
   "outputs": [],
   "source": []
  },
  {
   "cell_type": "code",
   "execution_count": null,
   "metadata": {},
   "outputs": [],
   "source": []
  },
  {
   "cell_type": "code",
   "execution_count": null,
   "metadata": {},
   "outputs": [],
   "source": []
  },
  {
   "cell_type": "code",
   "execution_count": null,
   "metadata": {},
   "outputs": [],
   "source": []
  },
  {
   "cell_type": "code",
   "execution_count": null,
   "metadata": {},
   "outputs": [],
   "source": []
  },
  {
   "cell_type": "code",
   "execution_count": null,
   "metadata": {},
   "outputs": [],
   "source": []
  }
 ],
 "metadata": {
  "kernelspec": {
   "display_name": "Python 3",
   "language": "python",
   "name": "python3"
  },
  "language_info": {
   "codemirror_mode": {
    "name": "ipython",
    "version": 3
   },
   "file_extension": ".py",
   "mimetype": "text/x-python",
   "name": "python",
   "nbconvert_exporter": "python",
   "pygments_lexer": "ipython3",
   "version": "3.7.6"
  }
 },
 "nbformat": 4,
 "nbformat_minor": 4
}
